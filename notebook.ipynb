{
 "cells": [
  {
   "cell_type": "markdown",
   "id": "6cf8ceee",
   "metadata": {},
   "source": [
    "### Test Your Code Here"
   ]
  },
  {
   "cell_type": "code",
   "execution_count": 21,
   "id": "ed26b81d",
   "metadata": {},
   "outputs": [],
   "source": [
    "from bank import Bank\n",
    "from user import BankUser"
   ]
  },
  {
   "cell_type": "code",
   "execution_count": 22,
   "id": "99e6639a",
   "metadata": {},
   "outputs": [],
   "source": [
    "bank_one = Bank(\"INSERT BANK NAME HERE\")"
   ]
  },
  {
   "cell_type": "code",
   "execution_count": 23,
   "id": "86d2d83b",
   "metadata": {},
   "outputs": [
    {
     "ename": "AttributeError",
     "evalue": "'Bank' object has no attribute '__bank_data'",
     "output_type": "error",
     "traceback": [
      "\u001b[31m---------------------------------------------------------------------------\u001b[39m",
      "\u001b[31mAttributeError\u001b[39m                            Traceback (most recent call last)",
      "\u001b[36mCell\u001b[39m\u001b[36m \u001b[39m\u001b[32mIn[23]\u001b[39m\u001b[32m, line 2\u001b[39m\n\u001b[32m      1\u001b[39m \u001b[38;5;66;03m#should be an error, we dont want to be able to access the bank data\u001b[39;00m\n\u001b[32m----> \u001b[39m\u001b[32m2\u001b[39m \u001b[43mbank_one\u001b[49m\u001b[43m.\u001b[49m\u001b[43m__bank_data\u001b[49m\n",
      "\u001b[31mAttributeError\u001b[39m: 'Bank' object has no attribute '__bank_data'"
     ]
    }
   ],
   "source": [
    "#should be an error, we dont want to be able to access the bank data\n",
    "bank_one.__bank_data"
   ]
  },
  {
   "cell_type": "code",
   "execution_count": 24,
   "id": "f7ccf953",
   "metadata": {},
   "outputs": [],
   "source": [
    "user_one = BankUser(\"USERNAME\", \"PASSWORD\", bank_one)"
   ]
  },
  {
   "cell_type": "code",
   "execution_count": 25,
   "id": "877fe799",
   "metadata": {},
   "outputs": [
    {
     "ename": "AttributeError",
     "evalue": "'BankUser' object has no attribute '__password'",
     "output_type": "error",
     "traceback": [
      "\u001b[31m---------------------------------------------------------------------------\u001b[39m",
      "\u001b[31mAttributeError\u001b[39m                            Traceback (most recent call last)",
      "\u001b[36mCell\u001b[39m\u001b[36m \u001b[39m\u001b[32mIn[25]\u001b[39m\u001b[32m, line 2\u001b[39m\n\u001b[32m      1\u001b[39m \u001b[38;5;66;03m#should be an error, we dont want to be able to access users password\u001b[39;00m\n\u001b[32m----> \u001b[39m\u001b[32m2\u001b[39m \u001b[43muser_one\u001b[49m\u001b[43m.\u001b[49m\u001b[43m__password\u001b[49m\n",
      "\u001b[31mAttributeError\u001b[39m: 'BankUser' object has no attribute '__password'"
     ]
    }
   ],
   "source": [
    "#should be an error, we dont want to be able to access users password\n",
    "user_one.__password"
   ]
  },
  {
   "cell_type": "code",
   "execution_count": 26,
   "id": "707b5c76",
   "metadata": {},
   "outputs": [
    {
     "data": {
      "text/plain": [
       "Ellipsis"
      ]
     },
     "execution_count": 26,
     "metadata": {},
     "output_type": "execute_result"
    }
   ],
   "source": [
    "#output should be zero\n",
    "user_one.check_balance()"
   ]
  },
  {
   "cell_type": "code",
   "execution_count": null,
   "id": "b940882a",
   "metadata": {},
   "outputs": [],
   "source": [
    "user_one.deposit(150)\n",
    "\n",
    "user_one.withdraw(50)\n",
    "\n",
    "#output should be 100\n",
    "user_one.check_balance()"
   ]
  },
  {
   "cell_type": "code",
   "execution_count": null,
   "id": "fa1bf91b",
   "metadata": {},
   "outputs": [],
   "source": [
    "#should not work since balance is only 50\n",
    "user_one.withdraw(2000)"
   ]
  }
 ],
 "metadata": {
  "kernelspec": {
   "display_name": "Python 3",
   "language": "python",
   "name": "python3"
  },
  "language_info": {
   "codemirror_mode": {
    "name": "ipython",
    "version": 3
   },
   "file_extension": ".py",
   "mimetype": "text/x-python",
   "name": "python",
   "nbconvert_exporter": "python",
   "pygments_lexer": "ipython3",
   "version": "3.12.1"
  }
 },
 "nbformat": 4,
 "nbformat_minor": 5
}
